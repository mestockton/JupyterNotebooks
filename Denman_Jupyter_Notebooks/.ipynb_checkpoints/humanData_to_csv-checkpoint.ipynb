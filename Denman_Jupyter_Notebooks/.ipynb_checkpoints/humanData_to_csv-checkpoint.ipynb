{
 "cells": [
  {
   "cell_type": "code",
   "execution_count": 2,
   "metadata": {},
   "outputs": [],
   "source": [
    "import os,sys,glob\n",
    "import numpy as np\n",
    "import pandas as pd\n",
    "#import osfclient as osf\n",
    "#from osfclient import cli\n",
    "import h5py\n",
    "import matplotlib.pyplot as plt\n",
    "import seaborn as sns\n",
    "\n",
    "#load the session\n",
    "session1 = 'C:/Users/micha/cheetah_or_elephant/data/user1.87585068940037e-309_2020_5_18-10_46_5/'\n",
    "session2 = 'C:/Users/micha/cheetah_or_elephant/data/user1.87585068940037e-309_2020_5_18-15_35_38/'\n",
    "session3 = 'C:/Users/micha/cheetah_or_elephant/data/user1.87585068940037e-309_2020_5_19-13_34_28/'\n",
    "session4 = 'C:/Users/micha/cheetah_or_elephant/data/user1.87585068940037e-309_2020_5_19-13_55_57/'\n",
    "\n",
    "dadSession1 = 'C:/Users/micha/Desktop/human_data/user3.0_2020_5_19-19_42_51/'\n",
    "\n"
   ]
  },
  {
   "cell_type": "code",
   "execution_count": 3,
   "metadata": {},
   "outputs": [],
   "source": []
  },
  {
   "cell_type": "code",
   "execution_count": 4,
   "metadata": {},
   "outputs": [],
   "source": [
    "#this function takes in imageData and outputs a list of floats. the float values represent the proportion of elephant(0) to cheetah(255)\n",
    "def fixImageData(data):\n",
    "    ''.join(data)\n",
    "    newImageData = ''.join(data).split('.tif')\n",
    "    newImageData = newImageData[::2]\n",
    "    newImageData = newImageData[0:(len(newImageData)-1)]\n",
    "    y = [z[32:] for z in newImageData]\n",
    "    z = [z.replace('t', '') for z in y]\n",
    "    final = [float(i) for i in z]\n",
    "    return final\n",
    "    \n"
   ]
  },
  {
   "cell_type": "code",
   "execution_count": 5,
   "metadata": {},
   "outputs": [],
   "source": [
    "def assignVariables(sessionName):\n",
    "    rewardData = np.load(sessionName + 'rewardData.npy')\n",
    "    trialData = np.load(sessionName + 'trialData.npy')\n",
    "    rtData = np.load(sessionName + 'rtData.npy')\n",
    "    imageData = np.load(sessionName + 'imageData.npy')\n",
    "    trialDurationData = np.load(sessionName + 'trialDurationData.npy')\n",
    "    imageData = fixImageData(imageData)\n",
    "    data = ([rewardData], [trialData], [rtData], [imageData], [trialDurationData])\n",
    "    return data\n"
   ]
  },
  {
   "cell_type": "code",
   "execution_count": 11,
   "metadata": {},
   "outputs": [],
   "source": [
    "session1 = assignVariables('C:/Users/micha/cheetah_or_elephant/data/user1.87585068940037e-309_2020_5_18-10_46_5/')\n",
    "session2 = assignVariables('C:/Users/micha/cheetah_or_elephant/data/user1.87585068940037e-309_2020_5_18-15_35_38/')\n",
    "session3 = assignVariables('C:/Users/micha/cheetah_or_elephant/data/user1.87585068940037e-309_2020_5_19-13_34_28/')\n",
    "session4 = assignVariables('C:/Users/micha/cheetah_or_elephant/data/user1.87585068940037e-309_2020_5_19-13_55_57/')\n",
    "session5 = assignVariables('C:/Users/micha/Desktop/human_data/user3.0_2020_5_19-19_42_51/')\n",
    "session6 = assignVariables('C:/Users/micha/Desktop/human_data/user2.0_2020_5_19-7_4_11/')\n",
    "session7 = assignVariables('C:/Users/micha/Desktop/human_data/user2.0_2020_5_18-7_11_19/')\n",
    "session8 = assignVariables('C:/Users/micha/Desktop/human_data/user2.0_2020_5_18-7_11_18/')"
   ]
  },
  {
   "cell_type": "code",
   "execution_count": 17,
   "metadata": {
    "scrolled": true
   },
   "outputs": [
    {
     "name": "stdout",
     "output_type": "stream",
     "text": [
      "[array([ 0.7156971,  0.8495304,  0.5669498,  0.5665966,  0.4992143,\n",
      "        0.784293 ,  0.4472874,  0.5503813, -1.       ,  0.5642061,\n",
      "       -1.       ,  0.5004117,  0.5843105,  0.400961 , -1.       ,\n",
      "        0.4671967,  0.3332495,  0.450061 ,  0.467344 ,  0.5334263,\n",
      "        0.5834595,  0.466379 ,  0.4830493,  0.4694778, -1.       ,\n",
      "        0.6519836,  0.533566 ,  0.4997368,  0.5005592,  0.5168363,\n",
      "        0.4167788, -1.       , -1.       , -1.       ,  0.8490182,\n",
      "        0.9028126,  0.5172084,  0.4840037,  0.5501061,  0.6503162,\n",
      "        0.633346 ,  1.1169956,  0.6672878,  0.5004547,  1.2330573,\n",
      "        0.767163 , -1.       ,  0.5326009]), array([ 1.8477374, -1.       ,  0.7058417,  0.7205275, -1.       ]), array([-1.       ,  0.7492508,  0.6828914, -1.       ,  0.7329199,\n",
      "        0.6828193,  0.6496953,  0.7008299, -1.       , -1.       ,\n",
      "        0.599264 ,  0.6657074,  0.7834998,  0.8334084,  0.6157357,\n",
      "        0.5335378,  0.5162052,  0.5996279,  0.4333276,  0.4499432,\n",
      "        0.4833041, -1.       ,  0.7496271,  0.8664579,  0.6662321,\n",
      "        0.6502036,  0.6166799,  0.5678486,  0.633522 ,  0.7835936,\n",
      "        0.5325462,  0.7831896,  0.6164185,  0.666826 ,  0.6328046,\n",
      "        0.51585  ,  0.4838993,  0.4832431,  0.5837636, -1.       ,\n",
      "        0.6168275,  0.5838994,  0.7497043,  0.6491536,  0.6000588,\n",
      "        0.6168156,  0.683528 ,  0.4832921,  0.632957 ,  0.5667213,\n",
      "        0.5338885,  0.661631 ,  0.6165198,  0.6990699,  0.5503421,\n",
      "        0.4664997,  0.4831918,  0.4670739,  0.500473 , -1.       ,\n",
      "        0.5004307, -1.       , -1.       ,  0.5173777,  0.6499606,\n",
      "        0.5170663,  0.5336734,  0.8497491,  0.5385535,  0.6003372,\n",
      "        0.5341018,  0.5827453,  0.5337694]), array([ 0.6662508,  0.5197553, -1.       ,  0.5333793,  0.5329053,\n",
      "        0.5999612, -1.       ,  0.5339095,  0.6832188,  0.5995844,\n",
      "        0.6000716,  0.5673677,  0.5669415,  0.5332521,  0.6003916,\n",
      "        0.5332514, -1.       ,  0.5171273,  0.549716 ,  0.5165797,\n",
      "        0.5833262,  0.5330651,  0.5333233,  0.6055753, -1.       ,\n",
      "        0.562664 ,  0.5326321,  0.4993662,  0.5503777,  0.4499161,\n",
      "        0.5166627,  0.5660331, -1.       ,  0.7658874,  0.4830615,\n",
      "       -1.       ,  0.6172599,  0.5160769,  0.5483327, -1.       ,\n",
      "        0.4836973,  0.4665491,  0.4495013, -1.       ,  0.4329063,\n",
      "        0.4519013,  0.4876697,  0.4557041,  0.5501227, -1.       ,\n",
      "        0.4161152,  0.4161645,  0.5001594,  0.4497242,  0.7995919,\n",
      "        0.5343009,  0.424356 ,  0.4665571,  0.5834621,  0.6829845,\n",
      "        0.4837766,  0.3834936,  0.3669817,  0.6169829]), array([-1.       ,  1.3512138,  0.7676545,  0.684355 ,  0.6841156,\n",
      "       -1.       , -1.       , -1.       ,  0.5333406, -1.       ,\n",
      "        0.6198164,  0.5006023, -1.       ,  0.4668445, -1.       ,\n",
      "       -1.       ,  0.4337981, -1.       , -1.       ,  0.5004371,\n",
      "       -1.       ,  0.5168053, -1.       ,  0.4998929, -1.       ,\n",
      "        0.4506239, -1.       ,  0.4158106,  0.5508582, -1.       ,\n",
      "        0.6985132,  0.4174812, -1.       , -1.       , -1.       ,\n",
      "       -1.       ,  0.5506644,  0.6676263,  0.953333 ,  0.4505773,\n",
      "       -1.       ,  0.601203 , -1.       ,  0.5344049,  0.5346377,\n",
      "       -1.       , -1.       ,  0.6183401,  0.4677224, -1.       ,\n",
      "        0.6345432, -1.       ,  0.471108 , -1.       , -1.       ,\n",
      "        0.6847811,  0.6171845, -1.       ,  0.6197909, -1.       ,\n",
      "       -1.       ,  0.5172738, -1.       , -1.       ,  0.3170411,\n",
      "       -1.       ,  0.286335 ,  0.3546313,  0.0592281,  0.3505367,\n",
      "       -1.       , -1.       ,  0.3522625, -1.       ,  0.5324758,\n",
      "        0.3335419, -1.       , -1.       ,  0.5187473, -1.       ,\n",
      "        0.4688419,  0.3185299,  0.3675411, -1.       , -1.       ]), array([ 0.866803,  0.533265,  0.556002,  0.90585 , -1.      ,  0.634425,\n",
      "        0.699769,  0.537932,  0.37299 ,  0.549945, -1.      ,  0.549775,\n",
      "        0.435136,  0.434698,  0.400255,  0.50042 ,  0.416876, -1.      ,\n",
      "        0.456187, -1.      ,  0.517857,  0.434566,  0.650482,  0.4839  ,\n",
      "        0.472966, -1.      ,  0.501072, -1.      ,  0.400401,  0.589031,\n",
      "        0.440231,  0.516819, -1.      ,  0.466528, -1.      ,  0.640362,\n",
      "        0.538345,  0.551022,  0.400311,  0.401474,  0.48327 ,  0.583318,\n",
      "       -1.      ,  0.442581,  0.516204,  0.468374,  0.500812,  0.484923,\n",
      "        0.450821,  0.555797,  0.456462,  0.484082, -1.      ,  0.56779 ,\n",
      "        0.467436,  0.451059,  0.436099,  0.489612,  0.449749, -1.      ,\n",
      "        0.484878, -1.      ,  0.467851,  0.399901,  0.483681, -1.      ,\n",
      "        0.48985 ,  0.417448,  0.522613,  0.500053,  0.467842, -1.      ,\n",
      "        0.434006, -1.      , -1.      ,  0.567564,  0.782594, -1.      ,\n",
      "        0.484084,  0.587634,  0.505852, -1.      ,  0.821493,  0.550752,\n",
      "        0.550728,  0.482727,  0.483792,  0.500093,  0.416776,  0.518475,\n",
      "       -1.      ,  0.456453,  0.689901,  0.56608 ,  0.667561,  0.500337,\n",
      "        0.550988, -1.      ,  0.66698 ,  0.483597,  0.785121,  0.567069,\n",
      "        0.637209,  0.621799,  0.489146, -1.      ,  0.588293,  0.483171,\n",
      "        0.550025,  0.499795,  0.48795 ,  0.559328, -1.      ,  0.517199,\n",
      "        0.667577,  0.456615, -1.      ,  0.533989,  0.534484,  0.437035,\n",
      "        0.568315, -1.      ,  0.616944,  0.599805,  0.539964,  0.850558,\n",
      "        0.503346,  0.616243,  0.573775,  0.515848,  0.501065,  0.7358  ,\n",
      "        0.568149,  0.552039]), array([ 0.41641 ,  1.600393,  0.550681,  0.534856,  0.522299, -1.      ,\n",
      "        0.667921, -1.      , -1.      ,  0.616846,  0.534018,  0.605839,\n",
      "        0.501039,  0.473028, -1.      ,  0.501007,  0.833515, -1.      ,\n",
      "        0.489027, -1.      , -1.      ,  0.738968,  0.672545,  0.585449,\n",
      "       -1.      ,  0.550768,  0.58382 , -1.      ,  0.552019,  0.634694,\n",
      "        0.566571,  0.550837,  0.618211,  0.621914,  0.517458,  0.518338,\n",
      "       -1.      ,  0.550758,  0.537075,  0.583943,  0.61818 ,  0.650348,\n",
      "        0.571322,  0.602483, -1.      ,  1.017262,  0.634009,  0.571454,\n",
      "        0.585924, -1.      ,  0.5853  ,  0.583618,  0.606094,  0.500376,\n",
      "        0.516935,  0.351981,  0.469187,  0.472929,  0.534359, -1.      ,\n",
      "        0.650197,  0.469175,  0.533587,  0.670207,  0.568146,  0.617192,\n",
      "        0.48437 ,  0.485188,  0.553479, -1.      ,  0.50036 ,  0.603942,\n",
      "        0.570947,  0.600993,  0.699732,  0.599858,  0.551712, -1.      ,\n",
      "        0.650098,  0.584309,  0.515924,  0.4511  ,  0.552662,  0.650104,\n",
      "       -1.      , -1.      ,  0.721231, -1.      ,  0.599241,  0.584826,\n",
      "        0.53253 , -1.      ,  0.785222,  0.700805,  0.63716 ,  0.673159,\n",
      "       -1.      ,  0.568901,  0.617754,  0.536589,  0.589165,  0.619849,\n",
      "        0.483207,  0.451594,  0.587116,  0.553469, -1.      ,  0.618247,\n",
      "       -1.      ,  0.901556,  0.634173,  0.521042,  0.55176 ,  0.600529,\n",
      "        0.771903,  0.500343,  0.569694,  0.451781,  0.618279,  0.451401,\n",
      "       -1.      ,  0.61827 ,  0.585986,  0.687949,  0.566806,  0.787   ,\n",
      "        0.533575,  1.384104, -1.      ,  1.116941,  0.58677 ,  0.649502,\n",
      "        0.583879,  0.599448,  0.551096,  0.653378,  0.682503, -1.      ,\n",
      "        0.653265,  0.833075,  1.050863,  0.684742,  0.853789,  0.617218,\n",
      "        0.584432,  0.684286,  0.682298, -1.      ,  0.584025,  0.484691,\n",
      "        0.516733,  0.516694,  0.61692 , -1.      ,  0.584024])]\n"
     ]
    }
   ],
   "source": [
    "type(session1[2])\n",
    "type(session1[3])\n",
    "print(all_rtData)"
   ]
  },
  {
   "cell_type": "code",
   "execution_count": 18,
   "metadata": {},
   "outputs": [
    {
     "ename": "ValueError",
     "evalue": "operands could not be broadcast together with shapes (1,48) (1,5) ",
     "output_type": "error",
     "traceback": [
      "\u001b[1;31m---------------------------------------------------------------------------\u001b[0m",
      "\u001b[1;31mValueError\u001b[0m                                Traceback (most recent call last)",
      "\u001b[1;32m<ipython-input-18-e04d788a3a88>\u001b[0m in \u001b[0;36m<module>\u001b[1;34m\u001b[0m\n\u001b[0;32m      1\u001b[0m \u001b[1;31m#here we concatenate all reaction time data and all img data for all sessions\u001b[0m\u001b[1;33m\u001b[0m\u001b[1;33m\u001b[0m\u001b[1;33m\u001b[0m\u001b[0m\n\u001b[1;32m----> 2\u001b[1;33m \u001b[0mall_rtData\u001b[0m \u001b[1;33m=\u001b[0m \u001b[0mnp\u001b[0m\u001b[1;33m.\u001b[0m\u001b[0masarray\u001b[0m\u001b[1;33m(\u001b[0m\u001b[0msession1\u001b[0m\u001b[1;33m[\u001b[0m\u001b[1;36m2\u001b[0m\u001b[1;33m]\u001b[0m\u001b[1;33m)\u001b[0m\u001b[1;33m+\u001b[0m \u001b[0mnp\u001b[0m\u001b[1;33m.\u001b[0m\u001b[0masarray\u001b[0m\u001b[1;33m(\u001b[0m\u001b[0msession2\u001b[0m\u001b[1;33m[\u001b[0m\u001b[1;36m2\u001b[0m\u001b[1;33m]\u001b[0m\u001b[1;33m)\u001b[0m\u001b[1;31m#+ session3[2]+ session4[2]+ session5[2]+session6[2]+session7[2]\u001b[0m\u001b[1;33m\u001b[0m\u001b[1;33m\u001b[0m\u001b[0m\n\u001b[0m\u001b[0;32m      3\u001b[0m \u001b[1;31m#all_imgData = session1[3]+ session2[3]+ session3[3]+ session4[3]+ session5[3]+session6[3]+session7[3]\u001b[0m\u001b[1;33m\u001b[0m\u001b[1;33m\u001b[0m\u001b[1;33m\u001b[0m\u001b[0m\n\u001b[0;32m      4\u001b[0m \u001b[1;33m\u001b[0m\u001b[0m\n\u001b[0;32m      5\u001b[0m \u001b[1;31m#here we concatenate all correct trials reaction time and image data for those trials\u001b[0m\u001b[1;33m\u001b[0m\u001b[1;33m\u001b[0m\u001b[1;33m\u001b[0m\u001b[0m\n",
      "\u001b[1;31mValueError\u001b[0m: operands could not be broadcast together with shapes (1,48) (1,5) "
     ]
    }
   ],
   "source": [
    "#here we concatenate all reaction time data and all img data for all sessions\n",
    "all_rtData = np.asarray(session1[2])+ np.asarray(session2[2])#+ session3[2]+ session4[2]+ session5[2]+session6[2]+session7[2]\n",
    "#all_imgData = session1[3]+ session2[3]+ session3[3]+ session4[3]+ session5[3]+session6[3]+session7[3]\n",
    "\n",
    "#here we concatenate all correct trials reaction time and image data for those trials\n",
    "#arr = np.where(all_rtData != -1)\n",
    "#correct_all_rtData = all_rtData[arr]\n",
    "#correct_all_imgData = all_imgData[arr]\n",
    "#ax = sns.barplot(x=correct_all_imgData, y=correct_all_rtData)\n",
    "#ax.set(xlabel='Elephant --> cheetah', ylabel = 'reaction time (s)')"
   ]
  },
  {
   "cell_type": "code",
   "execution_count": null,
   "metadata": {},
   "outputs": [],
   "source": [
    "#here we concatenate all incorrect trials and image data for those trials\n",
    "arr = np.where(all_rtData == -1)\n",
    "incorrect_all_rtData = all_rtData[arr]\n",
    "incorrect_all_imgData = all_imgData[arr]\n",
    "ax = sns.countplot(x=incorrect_all_imgData)\n",
    "ax.set(xlabel='Elephant --> cheetah', ylabel = 'incorrect answers')\n",
    "\n",
    "imageData1a = fixImageData(imageData1)\n",
    "rt_img1 = np.vstack((imageData1a, rtData1)).T\n",
    "\n",
    "#here we concatenate all reaction time data and all img data for all sessions\n",
    "all_rtData = np.concatenate((rtData1,rtData2,rtData3,rtData4))\n",
    "all_imgData = np.concatenate((imageData1a,imageData2a,imageData3a,imageData4a))\n",
    "\n",
    "#here we concatenate all correct trials reaction time and image data for those trials\n",
    "arr = np.where(all_rtData != -1)\n",
    "correct_all_rtData = all_rtData[arr]\n",
    "correct_all_imgData = all_imgData[arr]\n",
    "ax = sns.barplot(x=correct_all_imgData, y=correct_all_rtData)\n",
    "ax.set(xlabel='Elephant --> cheetah', ylabel = 'reaction time (s)')\n",
    "\n"
   ]
  }
 ],
 "metadata": {
  "kernelspec": {
   "display_name": "Python 3",
   "language": "python",
   "name": "python3"
  },
  "language_info": {
   "codemirror_mode": {
    "name": "ipython",
    "version": 3
   },
   "file_extension": ".py",
   "mimetype": "text/x-python",
   "name": "python",
   "nbconvert_exporter": "python",
   "pygments_lexer": "ipython3",
   "version": "3.7.3"
  }
 },
 "nbformat": 4,
 "nbformat_minor": 2
}
