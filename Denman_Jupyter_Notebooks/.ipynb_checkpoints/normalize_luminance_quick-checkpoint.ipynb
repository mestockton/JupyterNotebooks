{
 "cells": [
  {
   "cell_type": "code",
   "execution_count": 1,
   "metadata": {},
   "outputs": [
    {
     "name": "stdout",
     "output_type": "stream",
     "text": [
      "(16, 1000, 1500)\n"
     ]
    }
   ],
   "source": [
    "from PIL import Image\n",
    "import numpy as np\n",
    "from scipy import ndimage\n",
    "import matplotlib.pyplot as plt\n",
    "import random\n",
    "\n",
    "#load in all the images\n",
    "fence = Image.open('C:/Users/micha/Anaconda3/envs/panda3d/mystuff/mouse_tunnel-master/models/NaturalImages2/imk01266.tiff')\n",
    "birds = Image.open('C:/Users/micha/Anaconda3/envs/panda3d/mystuff/mouse_tunnel-master/models/NaturalImages2/birds.tiff')\n",
    "cheetah = Image.open('C:/Users/micha/Anaconda3/envs/panda3d/mystuff/mouse_tunnel-master/models/NaturalImages2/cheetah.tiff')\n",
    "elephant = Image.open('C:/Users/micha/Anaconda3/envs/panda3d/mystuff/mouse_tunnel-master/models/NaturalImages2/elephant.tiff')\n",
    "wolves = Image.open('C:/Users/micha/Anaconda3/envs/panda3d/mystuff/mouse_tunnel-master/models/NaturalImages2/wolves.tiff')\n",
    "flower = Image.open('C:/Users/micha/Anaconda3/envs/panda3d/mystuff/mouse_tunnel-master/models/NaturalImages2/flower.tiff')\n",
    "grass = Image.open('C:/Users/micha/Anaconda3/envs/panda3d/mystuff/mouse_tunnel-master/models/NaturalImages2/grass.tiff')\n",
    "hummingbird = Image.open('C:/Users/micha/Anaconda3/envs/panda3d/mystuff/mouse_tunnel-master/models/NaturalImages2/hummingbird.tiff')\n",
    "lions = Image.open('C:/Users/micha/Anaconda3/envs/panda3d/mystuff/mouse_tunnel-master/models/NaturalImages2/lions.tiff')\n",
    "lizard = Image.open('C:/Users/micha/Anaconda3/envs/panda3d/mystuff/mouse_tunnel-master/models/NaturalImages2/lizard.tiff')\n",
    "monkey = Image.open('C:/Users/micha/Anaconda3/envs/panda3d/mystuff/mouse_tunnel-master/models/NaturalImages2/monkey.tiff')\n",
    "plant = Image.open('C:/Users/micha/Anaconda3/envs/panda3d/mystuff/mouse_tunnel-master/models/NaturalImages2/plant.tiff')\n",
    "tiger = Image.open('C:/Users/micha/Anaconda3/envs/panda3d/mystuff/mouse_tunnel-master/models/NaturalImages2/tiger.tiff')\n",
    "tortoise = Image.open('C:/Users/micha/Anaconda3/envs/panda3d/mystuff/mouse_tunnel-master/models/NaturalImages2/tortoise.tiff')\n",
    "windows = Image.open('C:/Users/micha/Anaconda3/envs/panda3d/mystuff/mouse_tunnel-master/models/NaturalImages2/windows.tiff')\n",
    "cheetah_b = Image.open('C:/Users/micha/Anaconda3/envs/panda3d/mystuff/mouse_tunnel-master/models/NaturalImages2/cheetah_b.tiff')\n",
    "\n",
    "#convert images to 2d np arrays of equal sizes\n",
    "fence_array = np.array(fence)[0:1000, 0:1500]\n",
    "birds_array = np.array(birds)[0:1000, 0:1500]\n",
    "cheetah_array = np.array(cheetah)[0:1000, 0:1500]\n",
    "elephant_array = np.array(elephant)[0:1000, 0:1500]\n",
    "wolves_array = np.array(wolves)[0:1000, 0:1500]\n",
    "flower_array = np.array(flower)[0:1000, 0:1500]\n",
    "grass_array = np.array(grass)[0:1000, 0:1500]\n",
    "hummingbird_array = np.array(hummingbird)[0:1000, 0:1500]\n",
    "lions_array = np.array(lions)[0:1000, 0:1500]\n",
    "lizard_array = np.array(lizard)[0:1000, 0:1500]\n",
    "monkey_array = np.array(monkey)[0:1000, 0:1500]\n",
    "plant_array = np.array(plant)[0:1000, 0:1500]\n",
    "tiger_array = np.array(tiger)[0:1000, 0:1500]\n",
    "tortoise_array = np.array(tortoise)[0:1000, 0:1500]\n",
    "windows_array = np.array(windows)[0:1000, 0:1500]\n",
    "cheetah_b_array = np.array(cheetah_b)[0:1000, 0:1500]\n",
    "#create an array with all of the images in array format\n",
    "all_image_arrays = [fence_array, birds_array, cheetah_array, elephant_array, wolves_array, flower_array, grass_array, hummingbird_array, lions_array, lizard_array, monkey_array, plant_array, tiger_array, tortoise_array, windows_array, cheetah_b_array] \n",
    "print(np.shape(all_image_arrays))\n"
   ]
  },
  {
   "cell_type": "code",
   "execution_count": 2,
   "metadata": {},
   "outputs": [
    {
     "name": "stdout",
     "output_type": "stream",
     "text": [
      "Image Name:  ['fence_array', 'img']\n",
      "total luminance:  181382139  .top luminance:  100752356  bottom luminance:  80466748\n",
      "Image Name:  ['birds_array', 'img']\n",
      "total luminance:  202167071  .top luminance:  92457761  bottom luminance:  109466765\n",
      "Image Name:  ['cheetah_array', 'img']\n",
      "total luminance:  187904822  .top luminance:  69773932  bottom luminance:  117962689\n",
      "Image Name:  ['elephant_array', 'img']\n",
      "total luminance:  192578897  .top luminance:  75557220  bottom luminance:  116870518\n",
      "Image Name:  ['wolves_array', 'img']\n",
      "total luminance:  187387591  .top luminance:  70815651  bottom luminance:  116400172\n",
      "Image Name:  ['flower_array', 'img']\n",
      "total luminance:  186881410  .top luminance:  87069102  bottom luminance:  99595551\n",
      "Image Name:  ['grass_array', 'img']\n",
      "total luminance:  183423008  .top luminance:  115855207  bottom luminance:  67416359\n",
      "Image Name:  ['hummingbird_array', 'img']\n",
      "total luminance:  186026065  .top luminance:  70288699  bottom luminance:  115561916\n",
      "Image Name:  ['lions_array', 'img']\n",
      "total luminance:  197980609  .top luminance:  119955102  bottom luminance:  77848954\n",
      "Image Name:  ['lizard_array', 'img']\n",
      "total luminance:  187951476  .top luminance:  95239551  bottom luminance:  92492892\n",
      "Image Name:  ['monkey_array', 'img']\n",
      "total luminance:  187999956  .top luminance:  74510340  bottom luminance:  113299199\n",
      "Image Name:  ['plant_array', 'img']\n",
      "total luminance:  187856104  .top luminance:  75448604  bottom luminance:  112208101\n",
      "Image Name:  ['tiger_array', 'img']\n",
      "total luminance:  182349160  .top luminance:  90241736  bottom luminance:  91915017\n",
      "Image Name:  ['tortoise_array', 'img']\n",
      "total luminance:  189050860  .top luminance:  84388706  bottom luminance:  104466446\n",
      "Image Name:  ['windows_array', 'img']\n",
      "total luminance:  185505262  .top luminance:  89341731  bottom luminance:  96017824\n",
      "Image Name:  ['cheetah_b_array', 'img']\n",
      "total luminance:  186860968  .top luminance:  98805069  bottom luminance:  87852626\n"
     ]
    }
   ],
   "source": [
    "#this function just lets me print the name of said image during my forloop\n",
    "def namestr(obj, namespace):\n",
    "    return [name for name in namespace if namespace[name] is obj]\n",
    "\n",
    "total_lum = []\n",
    "top_lum = []\n",
    "bottom_lum = []\n",
    "\n",
    "#calculate and print the luminance values for each image (total, top, and bottom)\n",
    "for img in all_image_arrays:\n",
    "    luminance = np.sum(img)\n",
    "    total_lum.append(luminance)\n",
    "    img_top = img[0:500, ::] #a crop of only top half of image\n",
    "    top_luminance = np.sum(img_top)\n",
    "    top_lum.append(top_luminance)\n",
    "    img_bottom = img[501:1000, ::] # a crop of only bottom half of image\n",
    "    bottom_luminance = np.sum(img_bottom)\n",
    "    bottom_lum.append(bottom_luminance)\n",
    "    print(\"Image Name: \", namestr(img, globals()))\n",
    "    print(\"total luminance: \", luminance, \" .top luminance: \", top_luminance, \" bottom luminance: \", bottom_luminance)"
   ]
  },
  {
   "cell_type": "code",
   "execution_count": 3,
   "metadata": {},
   "outputs": [
    {
     "name": "stdout",
     "output_type": "stream",
     "text": [
      "[181382139, 202167071, 187904822, 192578897, 187387591, 186881410, 183423008, 186026065, 197980609, 187951476, 187999956, 187856104, 182349160, 189050860, 185505262, 186860968]\n",
      "average image luminance total:  188331587.375\n"
     ]
    }
   ],
   "source": [
    "#calculate and print the average total luminance of all images\n",
    "print(total_lum)\n",
    "mean_total_lum = np.mean(total_lum)\n",
    "print(\"average image luminance total: \", mean_total_lum)\n"
   ]
  },
  {
   "cell_type": "code",
   "execution_count": 4,
   "metadata": {},
   "outputs": [
    {
     "name": "stdout",
     "output_type": "stream",
     "text": [
      "(16, 1000, 1500)\n"
     ]
    }
   ],
   "source": [
    "#normalize all the images so they have the same total luminance\n",
    "normalized_img_arrays = [] #this array will be filled with normalized arrays in the same location as the images were loaded into all_image_arrays\n",
    "for img in all_image_arrays:\n",
    "    img_norm = img / np.sum(img) #takes the original array, and divides by the total luminance of that array\n",
    "    img_norm_to_mean = img_norm * mean_total_lum #takes the normalized original array, and makes the total luminance of the array equal to the mean of all images, the proportions are maintained, only total luminance changes\n",
    "    normalized_img_arrays.append(img_norm_to_mean)\n",
    "\n",
    "print(np.shape(normalized_img_arrays))\n",
    "\n"
   ]
  },
  {
   "cell_type": "code",
   "execution_count": 6,
   "metadata": {},
   "outputs": [
    {
     "name": "stdout",
     "output_type": "stream",
     "text": [
      "total luminance:  188331587.3750001  .top luminance:  104612566.82639027  bottom luminance:  83549739.04979753\n",
      "C:/Users/micha/Anaconda3/envs/panda3d/mystuff/mouse_tunnel-master/models/imageDump/5387486674.bmp\n",
      "total luminance:  188331587.37499988  .top luminance:  86130331.7505568  bottom luminance:  101975309.40761414\n",
      "C:/Users/micha/Anaconda3/envs/panda3d/mystuff/mouse_tunnel-master/models/imageDump/4992249363.bmp\n",
      "total luminance:  188331587.37499988  .top luminance:  69932401.04799074  bottom luminance:  118230603.31252944\n",
      "C:/Users/micha/Anaconda3/envs/panda3d/mystuff/mouse_tunnel-master/models/imageDump/1205749948.bmp\n",
      "total luminance:  188331587.37499994  .top luminance:  73890812.55482577  bottom luminance:  114292949.61783123\n",
      "C:/Users/micha/Anaconda3/envs/panda3d/mystuff/mouse_tunnel-master/models/imageDump/1401653510.bmp\n",
      "total luminance:  188331587.375  .top luminance:  71172396.70274648  bottom luminance:  116986557.36218427\n",
      "C:/Users/micha/Anaconda3/envs/panda3d/mystuff/mouse_tunnel-master/models/imageDump/5739600271.bmp\n",
      "total luminance:  188331587.3750001  .top luminance:  87744747.810795  bottom luminance:  100368400.55582719\n",
      "C:/Users/micha/Anaconda3/envs/panda3d/mystuff/mouse_tunnel-master/models/imageDump/9969480071.bmp\n",
      "total luminance:  188331587.37499994  .top luminance:  118955605.83091746  bottom luminance:  69220486.80781019\n",
      "C:/Users/micha/Anaconda3/envs/panda3d/mystuff/mouse_tunnel-master/models/imageDump/3006443438.bmp\n",
      "total luminance:  188331587.37500003  .top luminance:  71159825.14167345  bottom luminance:  116994137.78588726\n",
      "C:/Users/micha/Anaconda3/envs/panda3d/mystuff/mouse_tunnel-master/models/imageDump/8035001536.bmp\n",
      "total luminance:  188331587.375  .top luminance:  114108825.5435664  bottom luminance:  74054813.53127545\n",
      "C:/Users/micha/Anaconda3/envs/panda3d/mystuff/mouse_tunnel-master/models/imageDump/3498248413.bmp\n",
      "total luminance:  188331587.37500003  .top luminance:  95432162.61154698  bottom luminance:  92679948.7930834\n",
      "C:/Users/micha/Anaconda3/envs/panda3d/mystuff/mouse_tunnel-master/models/imageDump/9748334315.bmp\n",
      "total luminance:  188331587.37499997  .top luminance:  74641776.02281436  bottom luminance:  113499058.45715207\n",
      "C:/Users/micha/Anaconda3/envs/panda3d/mystuff/mouse_tunnel-master/models/imageDump/5203008041.bmp\n",
      "total luminance:  188331587.37500006  .top luminance:  75639572.27893843  bottom luminance:  112492111.39641398\n",
      "C:/Users/micha/Anaconda3/envs/panda3d/mystuff/mouse_tunnel-master/models/imageDump/7043956572.bmp\n",
      "total luminance:  188331587.37499982  .top luminance:  93202345.37058294  bottom luminance:  94930522.60405317\n",
      "C:/Users/micha/Anaconda3/envs/panda3d/mystuff/mouse_tunnel-master/models/imageDump/6042849699.bmp\n",
      "total luminance:  188331587.37500012  .top luminance:  84067636.38897057  bottom luminance:  104068987.58675168\n",
      "C:/Users/micha/Anaconda3/envs/panda3d/mystuff/mouse_tunnel-master/models/imageDump/7118067219.bmp\n",
      "total luminance:  188331587.3749999  .top luminance:  90702925.8181379  bottom luminance:  97480734.5907706\n",
      "C:/Users/micha/Anaconda3/envs/panda3d/mystuff/mouse_tunnel-master/models/imageDump/7119633580.bmp\n"
     ]
    }
   ],
   "source": [
    "#calculate and print the luminance values for the normalized images, all total luminance values should be equal\n",
    "tot_lum = []\n",
    "b_lum = []\n",
    "t_lum = []\n",
    "\n",
    "for i in range(0,15):\n",
    "    img = normalized_img_arrays[i][:][:]\n",
    "    luminance = np.sum(img)\n",
    "    tot_lum.append(luminance)\n",
    "    img_top = img[0:500, ::] #a crop of only top half of image\n",
    "    top_luminance = np.sum(img_top)\n",
    "    t_lum.append(top_luminance)\n",
    "    img_bottom = img[501:1000, ::] # a crop of only bottom half of image\n",
    "    bottom_luminance = np.sum(img_bottom)\n",
    "    b_lum.append(bottom_luminance)\n",
    "    print(\"total luminance: \", luminance, \" .top luminance: \", top_luminance, \" bottom luminance: \", bottom_luminance)\n",
    "    randomInt = random.randint(0,10000000000)\n",
    "    file_name = 'C:/Users/micha/Anaconda3/envs/panda3d/mystuff/mouse_tunnel-master/models/imageDump/' + str(randomInt) \n",
    "    print(file_name)\n",
    "    np.save(file_name, img)"
   ]
  },
  {
   "cell_type": "code",
   "execution_count": null,
   "metadata": {},
   "outputs": [],
   "source": []
  }
 ],
 "metadata": {
  "kernelspec": {
   "display_name": "Python 3",
   "language": "python",
   "name": "python3"
  },
  "language_info": {
   "codemirror_mode": {
    "name": "ipython",
    "version": 3
   },
   "file_extension": ".py",
   "mimetype": "text/x-python",
   "name": "python",
   "nbconvert_exporter": "python",
   "pygments_lexer": "ipython3",
   "version": "3.7.3"
  }
 },
 "nbformat": 4,
 "nbformat_minor": 2
}
